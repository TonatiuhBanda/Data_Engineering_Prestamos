{
 "cells": [
  {
   "cell_type": "code",
   "execution_count": 1,
   "metadata": {},
   "outputs": [],
   "source": [
    "from pyspark.sql import SparkSession\n",
    "from pyspark.context import SparkContext\n",
    "import pyspark.sql.functions as F\n",
    "from pyspark.sql.types import *\n",
    "\n",
    "from pyspark.sql.window import Window"
   ]
  },
  {
   "cell_type": "code",
   "execution_count": 2,
   "metadata": {},
   "outputs": [],
   "source": [
    "sc = SparkContext.getOrCreate()\n",
    "spark = SparkSession(sc)"
   ]
  },
  {
   "cell_type": "markdown",
   "metadata": {},
   "source": [
    "### Nombre archivos"
   ]
  },
  {
   "cell_type": "code",
   "execution_count": 3,
   "metadata": {},
   "outputs": [],
   "source": [
    "dir_archivo = '/home/tonatiuh/Documents/Desarrollo/ZophiaLearning/ejercicios/'\n",
    "dir_complemento = 'prestamos/curated/'"
   ]
  },
  {
   "cell_type": "markdown",
   "metadata": {},
   "source": [
    "### Funciones"
   ]
  },
  {
   "cell_type": "code",
   "execution_count": 4,
   "metadata": {},
   "outputs": [],
   "source": [
    "def df_almacenamiento_parquet(dir_archivo, nombre_archivo, df):\n",
    "    nombre_destino = f'prestamos/curated/{nombre_archivo}'\n",
    "    df.write.mode('overwrite').parquet(dir_archivo+nombre_destino)\n",
    "    print(nombre_destino)\n",
    "\n",
    "    \n",
    "def df_almacenamiento_csv(nombre_archivo, df):\n",
    "    df_filtrado = df.limit(10)\n",
    "    df_pandas = df_filtrado.toPandas()\n",
    "    nombre_output = nombre_archivo.replace('.parquet', '')\n",
    "    nombre_csv = f'output/{nombre_output}.csv'\n",
    "    df_pandas.to_csv(nombre_csv, index=False)\n",
    "    print(nombre_csv)\n",
    "\n",
    "\n",
    "def df_almacenamiento(dir_archivo, nombre_archivo, df):\n",
    "    df_almacenamiento_parquet(dir_archivo, nombre_archivo, df)\n",
    "    df_almacenamiento_csv(nombre_archivo, df)"
   ]
  },
  {
   "cell_type": "markdown",
   "metadata": {},
   "source": [
    "### Tabla prestamos_destinatarios"
   ]
  },
  {
   "cell_type": "code",
   "execution_count": 5,
   "metadata": {},
   "outputs": [],
   "source": [
    "nombre_archivo = 'prestamos_destinatarios.parquet'\n",
    "df_destinatarios = spark.read.format('parquet')\\\n",
    "                        .load(dir_archivo+dir_complemento+nombre_archivo)\n",
    "\n",
    "\n",
    "df_destinatarios = df_destinatarios.select(\n",
    "    F.col('ID').alias('ID_SOLICITANTE'),\n",
    "    F.col('NOMBRE').alias('NOMBRE_SOLICITANTE'),\n",
    "    'DIRECCION',\n",
    "    'CP',\n",
    "    'FECHA_NACIMIENTO',\n",
    "    'CORREO',\n",
    "    F.col('BANCO').alias('ID_BANCO'),\n",
    "    F.col('PLAZA').alias('ID_PLAZA'),\n",
    "    'CLABE')\n",
    "\n",
    "\n",
    "#NOMBRE_SOLICITANTE\n",
    "df_destinatarios = df_destinatarios.withColumn('nombre_split', F.split(F.col('NOMBRE_SOLICITANTE'), ' '))\n",
    "df_destinatarios = df_destinatarios.withColumn(\n",
    "    'nombre_indicador',\n",
    "    F.when(F.col('nombre_split').getItem(0) == 'Ing.',   2)\n",
    "     .when(F.col('nombre_split').getItem(0) == 'Dr.',    2)\n",
    "     .when(F.col('nombre_split').getItem(0) == 'Sr(a).', 2)\n",
    "     .when(F.col('nombre_split').getItem(0) == 'Lic.',   2)\n",
    "     .when(F.col('nombre_split').getItem(0) == 'Mtro.',  2)\n",
    "    .otherwise(1))\n",
    "df_destinatarios = df_destinatarios.withColumn('nombre_elementos', F.size(F.col('nombre_split')))\n",
    "df_destinatarios = df_destinatarios.withColumn(\n",
    "    'nombre_procesado',\n",
    "    F.when(F.col('nombre_indicador') == 2,\n",
    "           F.concat_ws(' ',\n",
    "                       F.expr(\"slice(nombre_split, nombre_indicador, nombre_elementos)\")))\n",
    "    .otherwise(F.col('NOMBRE_SOLICITANTE')))\n",
    "\n",
    "# df_destinatarios = df_destinatarios.withColumn('nombre_split_drop', F.expr(\"slice(nombre_split, nombre_indicador, nombre_elementos)\"))\n",
    "# df_destinatarios = df_destinatarios.withColumn('nombre_procesado', F.concat_ws(' ', 'nombre_split_drop'))\n",
    "\n",
    "\n",
    "#ESTADO\n",
    "df_destinatarios = df_destinatarios.withColumn('direccion_split', F.split(F.col('DIRECCION'), ','))\n",
    "df_destinatarios = df_destinatarios.withColumn('numero_elementos', F.size(F.col('direccion_split')))\n",
    "df_destinatarios = df_destinatarios.withColumn('estado', F.col('direccion_split').getItem(F.col('numero_elementos') - 1 ))\n",
    "df_destinatarios = df_destinatarios.withColumn('estado', F.trim(F.col('estado')))\n",
    "\n",
    "df_destinatarios = df_destinatarios.withColumn('direccion_split_drop', F.expr(\"slice(direccion_split, 1, numero_elementos-1)\"))\n",
    "df_destinatarios = df_destinatarios.withColumn('direccion_procesado', F.concat_ws(',', 'direccion_split_drop'))"
   ]
  },
  {
   "cell_type": "code",
   "execution_count": 6,
   "metadata": {},
   "outputs": [
    {
     "name": "stdout",
     "output_type": "stream",
     "text": [
      "root\n",
      " |-- ID_SOLICITANTE: integer (nullable = true)\n",
      " |-- NOMBRE_SOLICITANTE: string (nullable = true)\n",
      " |-- DIRECCION: string (nullable = true)\n",
      " |-- CP: string (nullable = true)\n",
      " |-- FECHA_NACIMIENTO: string (nullable = true)\n",
      " |-- CORREO: string (nullable = true)\n",
      " |-- ID_BANCO: integer (nullable = true)\n",
      " |-- ID_PLAZA: integer (nullable = true)\n",
      " |-- CLABE: long (nullable = true)\n",
      " |-- nombre_split: array (nullable = true)\n",
      " |    |-- element: string (containsNull = true)\n",
      " |-- nombre_indicador: integer (nullable = false)\n",
      " |-- nombre_elementos: integer (nullable = false)\n",
      " |-- nombre_procesado: string (nullable = true)\n",
      " |-- direccion_split: array (nullable = true)\n",
      " |    |-- element: string (containsNull = true)\n",
      " |-- numero_elementos: integer (nullable = false)\n",
      " |-- estado: string (nullable = true)\n",
      " |-- direccion_split_drop: array (nullable = true)\n",
      " |    |-- element: string (containsNull = true)\n",
      " |-- direccion_procesado: string (nullable = false)\n",
      "\n"
     ]
    }
   ],
   "source": [
    "df_destinatarios.printSchema()"
   ]
  },
  {
   "cell_type": "code",
   "execution_count": 7,
   "metadata": {},
   "outputs": [
    {
     "name": "stdout",
     "output_type": "stream",
     "text": [
      "+--------------+--------------------+--------------------+----------+----------------+--------------------+--------+--------+-----------+--------------------+----------------+----------------+--------------------+--------------------+----------------+------+--------------------+--------------------+\n",
      "|ID_SOLICITANTE|  NOMBRE_SOLICITANTE|           DIRECCION|        CP|FECHA_NACIMIENTO|              CORREO|ID_BANCO|ID_PLAZA|      CLABE|        nombre_split|nombre_indicador|nombre_elementos|    nombre_procesado|     direccion_split|numero_elementos|estado|direccion_split_drop| direccion_procesado|\n",
      "+--------------+--------------------+--------------------+----------+----------------+--------------------+--------+--------+-----------+--------------------+----------------+----------------+--------------------+--------------------+----------------+------+--------------------+--------------------+\n",
      "|             0|     Sr(a). Luz Leon|Diagonal Argelia ...|     76193|      1960-12-12|   pablo10@gmail.com|     147|     396|25944813986| [Sr(a)., Luz, Leon]|               2|               3|            Luz Leon|[Diagonal Argelia...|               2|    BC|[Diagonal Argelia...|Diagonal Argelia ...|\n",
      "|             1|Manuel Rocio Ceja...|Circunvalacion Ma...|06897-5791|      1925-05-19|berriosnayeli@hot...|     608|     542|19093888907|[Manuel, Rocio, C...|               1|               4|Manuel Rocio Ceja...|[Circunvalacion M...|               3|   GRO|[Circunvalacion M...|Circunvalacion Ma...|\n",
      "|             2|Marcela Cadena Ra...|Andador Hernandes...|05806-3517|      1924-09-26|munozmitzy@yahoo.com|     138|     934|87990547637|[Marcela, Cadena,...|               1|               3|Marcela Cadena Ra...|[Andador Hernande...|               2|    BC|[Andador Hernande...|Andador Hernandes...|\n",
      "+--------------+--------------------+--------------------+----------+----------------+--------------------+--------+--------+-----------+--------------------+----------------+----------------+--------------------+--------------------+----------------+------+--------------------+--------------------+\n",
      "only showing top 3 rows\n",
      "\n"
     ]
    }
   ],
   "source": [
    "df_destinatarios.show(3)"
   ]
  },
  {
   "cell_type": "markdown",
   "metadata": {},
   "source": [
    "### Tabla prestamos_bancos"
   ]
  },
  {
   "cell_type": "code",
   "execution_count": 8,
   "metadata": {},
   "outputs": [],
   "source": [
    "nombre_archivo = 'prestamos_bancos.parquet'\n",
    "df_bancos = spark.read.format('parquet')\\\n",
    "                .load(dir_archivo+dir_complemento+nombre_archivo)\n",
    "\n",
    "df_bancos = df_bancos.select(\n",
    "    F.col('DIGITOS').alias('ID_BANCO').cast(IntegerType()),\n",
    "    F.col('BANCO').alias('NOMBRE_BANCO'))"
   ]
  },
  {
   "cell_type": "code",
   "execution_count": 9,
   "metadata": {},
   "outputs": [
    {
     "name": "stdout",
     "output_type": "stream",
     "text": [
      "root\n",
      " |-- ID_BANCO: integer (nullable = true)\n",
      " |-- NOMBRE_BANCO: string (nullable = true)\n",
      "\n"
     ]
    }
   ],
   "source": [
    "df_bancos.printSchema()"
   ]
  },
  {
   "cell_type": "code",
   "execution_count": 10,
   "metadata": {},
   "outputs": [
    {
     "name": "stdout",
     "output_type": "stream",
     "text": [
      "+--------+------------+\n",
      "|ID_BANCO|NOMBRE_BANCO|\n",
      "+--------+------------+\n",
      "|       2|     BANAMEX|\n",
      "|       6|   BANCOMEXT|\n",
      "|       9|    BANOBRAS|\n",
      "+--------+------------+\n",
      "only showing top 3 rows\n",
      "\n"
     ]
    }
   ],
   "source": [
    "df_bancos.show(3)"
   ]
  },
  {
   "cell_type": "markdown",
   "metadata": {},
   "source": [
    "### Tabla plaza"
   ]
  },
  {
   "cell_type": "code",
   "execution_count": 11,
   "metadata": {},
   "outputs": [],
   "source": [
    "nombre_archivo = 'prestamos_plaza.parquet'\n",
    "df_plaza = spark.read.format('parquet')\\\n",
    "                .load(dir_archivo+dir_complemento+nombre_archivo)\n",
    "\n",
    "df_plaza = df_plaza.select(\n",
    "    F.col('DIGITOS').alias('ID_PLAZA').cast(IntegerType()),\n",
    "    F.col('PLAZA').alias('NOMBRE_PLAZA'))\n",
    "\n",
    "############################################################\n",
    "# Se agrega código temporal para hacer ID_PLAZA único\n",
    "############################################################\n",
    "w1 = Window.partitionBy('ID_PLAZA').orderBy('NOMBRE_PLAZA')\n",
    "df_plaza = df_plaza\\\n",
    "            .withColumn('row', F.row_number().over(w1))\\\n",
    "            .filter(F.col('row') == 1).drop('row')"
   ]
  },
  {
   "cell_type": "code",
   "execution_count": 12,
   "metadata": {},
   "outputs": [
    {
     "name": "stdout",
     "output_type": "stream",
     "text": [
      "root\n",
      " |-- ID_PLAZA: integer (nullable = true)\n",
      " |-- NOMBRE_PLAZA: string (nullable = true)\n",
      "\n"
     ]
    }
   ],
   "source": [
    "df_plaza.printSchema()"
   ]
  },
  {
   "cell_type": "code",
   "execution_count": 13,
   "metadata": {},
   "outputs": [
    {
     "name": "stdout",
     "output_type": "stream",
     "text": [
      "+--------+------------+\n",
      "|ID_PLAZA|NOMBRE_PLAZA|\n",
      "+--------+------------+\n",
      "|     463|    Zumpango|\n",
      "|     496|   La Piedad|\n",
      "|     540|  Cuernavaca|\n",
      "+--------+------------+\n",
      "only showing top 3 rows\n",
      "\n"
     ]
    }
   ],
   "source": [
    "df_plaza.show(3)"
   ]
  },
  {
   "cell_type": "markdown",
   "metadata": {},
   "source": [
    "### Cruce tablas"
   ]
  },
  {
   "cell_type": "code",
   "execution_count": 14,
   "metadata": {},
   "outputs": [],
   "source": [
    "df_destinatarios_b = df_destinatarios.join(df_bancos, how='left', on=['ID_BANCO'])\n",
    "df_destinatarios_p = df_destinatarios_b.join(df_plaza, how='left', on=['ID_PLAZA'])"
   ]
  },
  {
   "cell_type": "code",
   "execution_count": 15,
   "metadata": {},
   "outputs": [
    {
     "data": {
      "text/plain": [
       "DataFrame[ID_SOLICITANTE: int, NOMBRE_SOLICITANTE: string, DIRECCION: string, ESTADO: string, CP: string, FECHA_NACIMIENTO: string, CORREO: string, ID_PLAZA: int, NOMBRE_PLAZA: string, ID_BANCO: int, NOMBRE_BANCO: string, CLABE: bigint]"
      ]
     },
     "execution_count": 15,
     "metadata": {},
     "output_type": "execute_result"
    }
   ],
   "source": [
    "df_destinatarios_p = df_destinatarios_p.select(\n",
    "    'ID_SOLICITANTE',\n",
    "    F.col('nombre_procesado').alias('NOMBRE_SOLICITANTE'),\n",
    "    F.col('direccion_procesado').alias('DIRECCION'),\n",
    "    F.col('estado').alias('ESTADO'),\n",
    "    'CP',\n",
    "    'FECHA_NACIMIENTO',\n",
    "    'CORREO',\n",
    "    'ID_PLAZA',\n",
    "    'NOMBRE_PLAZA',\n",
    "    'ID_BANCO',\n",
    "    'NOMBRE_BANCO',\n",
    "    'CLABE')\n",
    "\n",
    "df_destinatarios_p.cache()"
   ]
  },
  {
   "cell_type": "code",
   "execution_count": 16,
   "metadata": {},
   "outputs": [
    {
     "name": "stdout",
     "output_type": "stream",
     "text": [
      "root\n",
      " |-- ID_SOLICITANTE: integer (nullable = true)\n",
      " |-- NOMBRE_SOLICITANTE: string (nullable = true)\n",
      " |-- DIRECCION: string (nullable = false)\n",
      " |-- ESTADO: string (nullable = true)\n",
      " |-- CP: string (nullable = true)\n",
      " |-- FECHA_NACIMIENTO: string (nullable = true)\n",
      " |-- CORREO: string (nullable = true)\n",
      " |-- ID_PLAZA: integer (nullable = true)\n",
      " |-- NOMBRE_PLAZA: string (nullable = true)\n",
      " |-- ID_BANCO: integer (nullable = true)\n",
      " |-- NOMBRE_BANCO: string (nullable = true)\n",
      " |-- CLABE: long (nullable = true)\n",
      "\n"
     ]
    }
   ],
   "source": [
    "df_destinatarios_p.printSchema()"
   ]
  },
  {
   "cell_type": "code",
   "execution_count": 17,
   "metadata": {},
   "outputs": [
    {
     "name": "stdout",
     "output_type": "stream",
     "text": [
      "-RECORD 0---------------------------------------------------------------------------------\n",
      " ID_SOLICITANTE     | 0                                                                   \n",
      " NOMBRE_SOLICITANTE | Luz Leon                                                            \n",
      " DIRECCION          | Diagonal Argelia 602 655San Caridad de la Montaña                   \n",
      " ESTADO             | BC                                                                  \n",
      " CP                 | 76193                                                               \n",
      " FECHA_NACIMIENTO   | 1960-12-12                                                          \n",
      " CORREO             | pablo10@gmail.com                                                   \n",
      " ID_PLAZA           | 396                                                                 \n",
      " NOMBRE_PLAZA       | Tepatitlan                                                          \n",
      " ID_BANCO           | 147                                                                 \n",
      " NOMBRE_BANCO       | BANKAOOL                                                            \n",
      " CLABE              | 25944813986                                                         \n",
      "-RECORD 1---------------------------------------------------------------------------------\n",
      " ID_SOLICITANTE     | 1                                                                   \n",
      " NOMBRE_SOLICITANTE | Manuel Rocio Ceja Aparicio                                          \n",
      " DIRECCION          | Circunvalacion Marruecos 330 Edif. 196 , Depto. 146Vieja Uzbekistan \n",
      " ESTADO             | GRO                                                                 \n",
      " CP                 | 06897-5791                                                          \n",
      " FECHA_NACIMIENTO   | 1925-05-19                                                          \n",
      " CORREO             | berriosnayeli@hotmail.com                                           \n",
      " ID_PLAZA           | 542                                                                 \n",
      " NOMBRE_PLAZA       | Cuautla                                                             \n",
      " ID_BANCO           | 608                                                                 \n",
      " NOMBRE_BANCO       | VECTOR                                                              \n",
      " CLABE              | 19093888907                                                         \n",
      "only showing top 2 rows\n",
      "\n"
     ]
    }
   ],
   "source": [
    "df_destinatarios_p.show(n=2, vertical=True, truncate=False)"
   ]
  },
  {
   "cell_type": "markdown",
   "metadata": {},
   "source": [
    "### Almacenamiento"
   ]
  },
  {
   "cell_type": "code",
   "execution_count": 18,
   "metadata": {},
   "outputs": [
    {
     "name": "stdout",
     "output_type": "stream",
     "text": [
      "prestamos/curated/prestamos_destinatarios_expandida.parquet\n",
      "output/prestamos_destinatarios_expandida.csv\n"
     ]
    }
   ],
   "source": [
    "nombre_archivo = 'prestamos_destinatarios_expandida.parquet'\n",
    "df_almacenamiento(dir_archivo, nombre_archivo, df_destinatarios_p)"
   ]
  },
  {
   "cell_type": "markdown",
   "metadata": {},
   "source": [
    "### Unpersist"
   ]
  },
  {
   "cell_type": "code",
   "execution_count": 19,
   "metadata": {},
   "outputs": [
    {
     "data": {
      "text/plain": [
       "DataFrame[ID_SOLICITANTE: int, NOMBRE_SOLICITANTE: string, DIRECCION: string, ESTADO: string, CP: string, FECHA_NACIMIENTO: string, CORREO: string, ID_PLAZA: int, NOMBRE_PLAZA: string, ID_BANCO: int, NOMBRE_BANCO: string, CLABE: bigint]"
      ]
     },
     "execution_count": 19,
     "metadata": {},
     "output_type": "execute_result"
    }
   ],
   "source": [
    "df_destinatarios_p.unpersist()"
   ]
  }
 ],
 "metadata": {
  "kernelspec": {
   "display_name": "Python 3",
   "language": "python",
   "name": "python3"
  },
  "language_info": {
   "codemirror_mode": {
    "name": "ipython",
    "version": 3
   },
   "file_extension": ".py",
   "mimetype": "text/x-python",
   "name": "python",
   "nbconvert_exporter": "python",
   "pygments_lexer": "ipython3",
   "version": "3.7.6"
  }
 },
 "nbformat": 4,
 "nbformat_minor": 4
}
