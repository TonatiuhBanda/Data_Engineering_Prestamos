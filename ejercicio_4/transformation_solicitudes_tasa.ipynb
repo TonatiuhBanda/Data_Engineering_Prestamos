{
 "cells": [
  {
   "cell_type": "code",
   "execution_count": 1,
   "metadata": {},
   "outputs": [],
   "source": [
    "from pyspark.sql import SparkSession\n",
    "from pyspark.context import SparkContext\n",
    "import pyspark.sql.functions as F\n",
    "from pyspark.sql.types import *\n",
    "\n",
    "from pyspark.sql.window import Window"
   ]
  },
  {
   "cell_type": "code",
   "execution_count": 2,
   "metadata": {},
   "outputs": [],
   "source": [
    "sc = SparkContext.getOrCreate()\n",
    "spark = SparkSession(sc)"
   ]
  },
  {
   "cell_type": "markdown",
   "metadata": {},
   "source": [
    "### Nombre archivos"
   ]
  },
  {
   "cell_type": "code",
   "execution_count": 3,
   "metadata": {},
   "outputs": [],
   "source": [
    "dir_archivo = '/home/tonatiuh/Documents/Desarrollo/ZophiaLearning/ejercicios/'\n",
    "dir_complemento = 'prestamos/curated/'"
   ]
  },
  {
   "cell_type": "markdown",
   "metadata": {},
   "source": [
    "### Funciones"
   ]
  },
  {
   "cell_type": "code",
   "execution_count": 4,
   "metadata": {},
   "outputs": [],
   "source": [
    "def df_almacenamiento_parquet(dir_archivo, nombre_archivo, df):\n",
    "    nombre_destino = f'prestamos/curated/{nombre_archivo}'\n",
    "    df.write.mode('overwrite').parquet(dir_archivo+nombre_destino)\n",
    "    print(nombre_destino)\n",
    "\n",
    "    \n",
    "def df_almacenamiento_csv(nombre_archivo, df):\n",
    "    df_filtrado = df.limit(10)\n",
    "    df_pandas = df_filtrado.toPandas()\n",
    "    nombre_output = nombre_archivo.replace('.parquet', '')\n",
    "    nombre_csv = f'output/{nombre_output}.csv'\n",
    "    df_pandas.to_csv(nombre_csv, index=False)\n",
    "    print(nombre_csv)\n",
    "\n",
    "\n",
    "def df_almacenamiento(dir_archivo, nombre_archivo, df):\n",
    "    df_almacenamiento_parquet(dir_archivo, nombre_archivo, df)\n",
    "    df_almacenamiento_csv(nombre_archivo, df)"
   ]
  },
  {
   "cell_type": "markdown",
   "metadata": {},
   "source": [
    "### Tabla prestamos_solicitudes"
   ]
  },
  {
   "cell_type": "code",
   "execution_count": 5,
   "metadata": {},
   "outputs": [],
   "source": [
    "nombre_archivo = 'prestamos_solicitudes.parquet'\n",
    "df_solicitudes = spark.read.format('parquet')\\\n",
    "                        .load(dir_archivo+dir_complemento+nombre_archivo)\n",
    "\n",
    "df_solicitudes = df_solicitudes.select(\n",
    "    'PRODUCTO',\n",
    "    F.col('TAZA').cast(FloatType()).alias('TASA')\n",
    ")"
   ]
  },
  {
   "cell_type": "markdown",
   "metadata": {},
   "source": [
    "### Tabla productos"
   ]
  },
  {
   "cell_type": "code",
   "execution_count": 6,
   "metadata": {},
   "outputs": [
    {
     "data": {
      "text/plain": [
       "DataFrame[PRODUCTO: string, MINIMO: float, MAXIMO: float, PROMEDIO: double]"
      ]
     },
     "execution_count": 6,
     "metadata": {},
     "output_type": "execute_result"
    }
   ],
   "source": [
    "df_productos = df_solicitudes.groupBy('PRODUCTO')\\\n",
    "                             .agg(F.min('TASA').alias('MINIMO'),\n",
    "                                  F.max('TASA').alias('MAXIMO'),\n",
    "                                  F.avg('TASA').alias('PROMEDIO'))\n",
    "df_productos.cache()"
   ]
  },
  {
   "cell_type": "code",
   "execution_count": 7,
   "metadata": {},
   "outputs": [
    {
     "name": "stdout",
     "output_type": "stream",
     "text": [
      "root\n",
      " |-- PRODUCTO: string (nullable = true)\n",
      " |-- MINIMO: float (nullable = true)\n",
      " |-- MAXIMO: float (nullable = true)\n",
      " |-- PROMEDIO: double (nullable = true)\n",
      "\n"
     ]
    }
   ],
   "source": [
    "df_productos.printSchema()"
   ]
  },
  {
   "cell_type": "code",
   "execution_count": 8,
   "metadata": {},
   "outputs": [
    {
     "name": "stdout",
     "output_type": "stream",
     "text": [
      "-RECORD 0---------------------\n",
      " PRODUCTO | monina            \n",
      " MINIMO   | 4.1               \n",
      " MAXIMO   | 8.2               \n",
      " PROMEDIO | 5.467363339911703 \n",
      "-RECORD 1---------------------\n",
      " PRODUCTO | basico            \n",
      " MINIMO   | 6.1               \n",
      " MAXIMO   | 10.4              \n",
      " PROMEDIO | 7.450699304367279 \n",
      "-RECORD 2---------------------\n",
      " PRODUCTO | general           \n",
      " MINIMO   | 5.1               \n",
      " MAXIMO   | 9.4               \n",
      " PROMEDIO | 6.414820600411449 \n",
      "only showing top 3 rows\n",
      "\n"
     ]
    }
   ],
   "source": [
    "df_productos.show(3, vertical=True, truncate=False)"
   ]
  },
  {
   "cell_type": "markdown",
   "metadata": {},
   "source": [
    "### Almacenamiento"
   ]
  },
  {
   "cell_type": "code",
   "execution_count": 9,
   "metadata": {},
   "outputs": [
    {
     "name": "stdout",
     "output_type": "stream",
     "text": [
      "prestamos/curated/prestamos_productos_tasa.parquet\n",
      "output/prestamos_productos_tasa.csv\n"
     ]
    }
   ],
   "source": [
    "nombre_archivo = 'prestamos_productos_tasa.parquet'\n",
    "df_almacenamiento(dir_archivo, nombre_archivo, df_productos)"
   ]
  },
  {
   "cell_type": "markdown",
   "metadata": {},
   "source": [
    "### Unpersist"
   ]
  },
  {
   "cell_type": "code",
   "execution_count": 10,
   "metadata": {},
   "outputs": [
    {
     "data": {
      "text/plain": [
       "DataFrame[PRODUCTO: string, MINIMO: float, MAXIMO: float, PROMEDIO: double]"
      ]
     },
     "execution_count": 10,
     "metadata": {},
     "output_type": "execute_result"
    }
   ],
   "source": [
    "df_productos.unpersist()"
   ]
  }
 ],
 "metadata": {
  "kernelspec": {
   "display_name": "Python 3",
   "language": "python",
   "name": "python3"
  },
  "language_info": {
   "codemirror_mode": {
    "name": "ipython",
    "version": 3
   },
   "file_extension": ".py",
   "mimetype": "text/x-python",
   "name": "python",
   "nbconvert_exporter": "python",
   "pygments_lexer": "ipython3",
   "version": "3.7.6"
  }
 },
 "nbformat": 4,
 "nbformat_minor": 4
}
