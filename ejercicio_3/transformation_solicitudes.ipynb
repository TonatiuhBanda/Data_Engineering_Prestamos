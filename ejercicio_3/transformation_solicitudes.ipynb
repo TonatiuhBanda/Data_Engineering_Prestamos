{
 "cells": [
  {
   "cell_type": "code",
   "execution_count": 1,
   "metadata": {},
   "outputs": [],
   "source": [
    "from pyspark.sql import SparkSession\n",
    "from pyspark.context import SparkContext\n",
    "import pyspark.sql.functions as F\n",
    "from pyspark.sql.types import *\n",
    "\n",
    "from pyspark.sql.window import Window"
   ]
  },
  {
   "cell_type": "code",
   "execution_count": 2,
   "metadata": {},
   "outputs": [],
   "source": [
    "sc = SparkContext.getOrCreate()\n",
    "spark = SparkSession(sc)"
   ]
  },
  {
   "cell_type": "markdown",
   "metadata": {},
   "source": [
    "### Nombre archivos"
   ]
  },
  {
   "cell_type": "code",
   "execution_count": 3,
   "metadata": {},
   "outputs": [],
   "source": [
    "dir_archivo = '/home/tonatiuh/Documents/Desarrollo/ZophiaLearning/ejercicios/'\n",
    "dir_complemento = 'prestamos/curated/'"
   ]
  },
  {
   "cell_type": "markdown",
   "metadata": {},
   "source": [
    "### Funciones"
   ]
  },
  {
   "cell_type": "code",
   "execution_count": 4,
   "metadata": {},
   "outputs": [],
   "source": [
    "def df_almacenamiento_parquet(dir_archivo, nombre_archivo, df):\n",
    "    nombre_destino = f'prestamos/curated/{nombre_archivo}'\n",
    "    df.write.mode('overwrite').parquet(dir_archivo+nombre_destino)\n",
    "    print(nombre_destino)\n",
    "\n",
    "    \n",
    "def df_almacenamiento_csv(nombre_archivo, df):\n",
    "    df_filtrado = df.limit(10)\n",
    "    df_pandas = df_filtrado.toPandas()\n",
    "    nombre_output = nombre_archivo.replace('.parquet', '')\n",
    "    nombre_csv = f'output/{nombre_output}.csv'\n",
    "    df_pandas.to_csv(nombre_csv, index=False)\n",
    "    print(nombre_csv)\n",
    "\n",
    "\n",
    "def df_almacenamiento(dir_archivo, nombre_archivo, df):\n",
    "    df_almacenamiento_parquet(dir_archivo, nombre_archivo, df)\n",
    "    df_almacenamiento_csv(nombre_archivo, df)"
   ]
  },
  {
   "cell_type": "markdown",
   "metadata": {},
   "source": [
    "### Tabla prestamos_solicitudes"
   ]
  },
  {
   "cell_type": "code",
   "execution_count": 5,
   "metadata": {},
   "outputs": [],
   "source": [
    "nombre_archivo = 'prestamos_solicitudes.parquet'\n",
    "df_solicitudes = spark.read.format('parquet')\\\n",
    "                        .load(dir_archivo+dir_complemento+nombre_archivo)\n",
    "\n",
    "df_solicitudes = df_solicitudes.select(\n",
    "    F.col('ID').cast(IntegerType()).alias('SOLICITUD_ID'),\n",
    "    'PRODUCTO',\n",
    "    F.col('TAZA').cast(FloatType()).alias('TASA'),\n",
    "    'SOLICITANTE')\n",
    "\n",
    "df_solicitudes = df_solicitudes.withColumn('nombre_split', F.split(F.col('SOLICITANTE'), ' '))\n",
    "df_solicitudes = df_solicitudes.withColumn(\n",
    "    'nombre_indicador',\n",
    "    F.when(F.col('nombre_split').getItem(0) == 'Ing.',   2)\n",
    "     .when(F.col('nombre_split').getItem(0) == 'Dr.',    2)\n",
    "     .when(F.col('nombre_split').getItem(0) == 'Sr(a).', 2)\n",
    "     .when(F.col('nombre_split').getItem(0) == 'Lic.',   2)\n",
    "     .when(F.col('nombre_split').getItem(0) == 'Mtro.',  2)\n",
    "    .otherwise(1))\n",
    "df_solicitudes = df_solicitudes.withColumn('nombre_elementos', F.size(F.col('nombre_split')))\n",
    "df_solicitudes = df_solicitudes.withColumn(\n",
    "    'nombre_procesado',\n",
    "    F.when(F.col('nombre_indicador') == 2,\n",
    "           F.concat_ws(' ',\n",
    "                       F.expr(\"slice(nombre_split, nombre_indicador, nombre_elementos)\")))\n",
    "    .otherwise(F.col('SOLICITANTE')))\n",
    "\n",
    "df_solicitudes = df_solicitudes.select(\n",
    "    'SOLICITUD_ID',\n",
    "    'PRODUCTO',\n",
    "    'TASA',\n",
    "    F.col('nombre_procesado').alias('NOMBRE_SOLICITANTE') )"
   ]
  },
  {
   "cell_type": "code",
   "execution_count": 6,
   "metadata": {},
   "outputs": [
    {
     "name": "stdout",
     "output_type": "stream",
     "text": [
      "root\n",
      " |-- SOLICITUD_ID: integer (nullable = true)\n",
      " |-- PRODUCTO: string (nullable = true)\n",
      " |-- TASA: float (nullable = true)\n",
      " |-- NOMBRE_SOLICITANTE: string (nullable = true)\n",
      "\n"
     ]
    }
   ],
   "source": [
    "df_solicitudes.printSchema()"
   ]
  },
  {
   "cell_type": "code",
   "execution_count": 7,
   "metadata": {},
   "outputs": [
    {
     "name": "stdout",
     "output_type": "stream",
     "text": [
      "-RECORD 0---------------------------------\n",
      " SOLICITUD_ID       | 0                   \n",
      " PRODUCTO           | monina              \n",
      " TASA               | 4.5                 \n",
      " NOMBRE_SOLICITANTE | Oliver Correa Tello \n",
      "-RECORD 1---------------------------------\n",
      " SOLICITUD_ID       | 1                   \n",
      " PRODUCTO           | basico              \n",
      " TASA               | 8.1                 \n",
      " NOMBRE_SOLICITANTE | Augusto Olmos       \n",
      "only showing top 2 rows\n",
      "\n"
     ]
    }
   ],
   "source": [
    "df_solicitudes.show(2, vertical=True, truncate=False)"
   ]
  },
  {
   "cell_type": "markdown",
   "metadata": {},
   "source": [
    "### Tabla prestamos_solicitudes_procesadas"
   ]
  },
  {
   "cell_type": "code",
   "execution_count": 8,
   "metadata": {},
   "outputs": [],
   "source": [
    "nombre_archivo = 'prestamos_solicitudes_procesadas.parquet'\n",
    "df_solicitudes_p = spark.read.format('parquet')\\\n",
    "                        .load(dir_archivo+dir_complemento+nombre_archivo)\n",
    "\n",
    "df_solicitudes_p = df_solicitudes_p.select(\n",
    "    F.to_date('FECHA_APROBADO', 'yyyy-MM-dd').alias('FECHA_APROBADO'),\n",
    "    F.to_date('FECHA_SOLICITUD', 'yyyy-MM-dd').alias('FECHA_SOLICITUD'),\n",
    "    F.to_date('FECHA_LIMITE', 'yyyy-MM-dd').alias('FECHA_LIMITE'),\n",
    "    F.col('MONTO_SOLICITADO').cast(IntegerType()),\n",
    "    F.col('MONTO_APROBADO').cast(FloatType()),\n",
    "    F.col('SOLICITUD_ID').cast(IntegerType()))"
   ]
  },
  {
   "cell_type": "code",
   "execution_count": 9,
   "metadata": {},
   "outputs": [
    {
     "name": "stdout",
     "output_type": "stream",
     "text": [
      "root\n",
      " |-- FECHA_APROBADO: date (nullable = true)\n",
      " |-- FECHA_SOLICITUD: date (nullable = true)\n",
      " |-- FECHA_LIMITE: date (nullable = true)\n",
      " |-- MONTO_SOLICITADO: integer (nullable = true)\n",
      " |-- MONTO_APROBADO: float (nullable = true)\n",
      " |-- SOLICITUD_ID: integer (nullable = true)\n",
      "\n"
     ]
    }
   ],
   "source": [
    "df_solicitudes_p.printSchema()"
   ]
  },
  {
   "cell_type": "code",
   "execution_count": 10,
   "metadata": {},
   "outputs": [
    {
     "name": "stdout",
     "output_type": "stream",
     "text": [
      "-RECORD 0----------------------\n",
      " FECHA_APROBADO   | 2017-07-18 \n",
      " FECHA_SOLICITUD  | 2017-07-02 \n",
      " FECHA_LIMITE     | 2018-07-09 \n",
      " MONTO_SOLICITADO | 255000     \n",
      " MONTO_APROBADO   | 0.0        \n",
      " SOLICITUD_ID     | 0          \n",
      "-RECORD 1----------------------\n",
      " FECHA_APROBADO   | 2017-04-29 \n",
      " FECHA_SOLICITUD  | 2017-04-10 \n",
      " FECHA_LIMITE     | 2017-08-18 \n",
      " MONTO_SOLICITADO | 84000      \n",
      " MONTO_APROBADO   | 80000.0    \n",
      " SOLICITUD_ID     | 1          \n",
      "only showing top 2 rows\n",
      "\n"
     ]
    }
   ],
   "source": [
    "df_solicitudes_p.show(2, vertical=True, truncate=False)"
   ]
  },
  {
   "cell_type": "markdown",
   "metadata": {},
   "source": [
    "### Cruce tablas"
   ]
  },
  {
   "cell_type": "code",
   "execution_count": 11,
   "metadata": {},
   "outputs": [
    {
     "data": {
      "text/plain": [
       "DataFrame[FECHA_APROBADO: date, FECHA_SOLICITUD: date, FECHA_LIMITE: date, MONTO_SOLICITADO: int, MONTO_APROBADO: float, SOLICITUD_ID: int, PRODUCTO: string, TASA: float, NOMBRE_SOLICITANTE: string]"
      ]
     },
     "execution_count": 11,
     "metadata": {},
     "output_type": "execute_result"
    }
   ],
   "source": [
    "df_solicitudes_expandida = df_solicitudes_p.join(df_solicitudes, how='left', on=['SOLICITUD_ID'])\n",
    "\n",
    "df_solicitudes_expandida = df_solicitudes_expandida.select(\n",
    "    'FECHA_APROBADO',\n",
    "    'FECHA_SOLICITUD',\n",
    "    'FECHA_LIMITE',\n",
    "    'MONTO_SOLICITADO',\n",
    "    'MONTO_APROBADO',\n",
    "    'SOLICITUD_ID',\n",
    "    'PRODUCTO',\n",
    "    'TASA',\n",
    "    'NOMBRE_SOLICITANTE')\n",
    "\n",
    "df_solicitudes_expandida.cache()"
   ]
  },
  {
   "cell_type": "code",
   "execution_count": 12,
   "metadata": {},
   "outputs": [
    {
     "name": "stdout",
     "output_type": "stream",
     "text": [
      "root\n",
      " |-- FECHA_APROBADO: date (nullable = true)\n",
      " |-- FECHA_SOLICITUD: date (nullable = true)\n",
      " |-- FECHA_LIMITE: date (nullable = true)\n",
      " |-- MONTO_SOLICITADO: integer (nullable = true)\n",
      " |-- MONTO_APROBADO: float (nullable = true)\n",
      " |-- SOLICITUD_ID: integer (nullable = true)\n",
      " |-- PRODUCTO: string (nullable = true)\n",
      " |-- TASA: float (nullable = true)\n",
      " |-- NOMBRE_SOLICITANTE: string (nullable = true)\n",
      "\n"
     ]
    }
   ],
   "source": [
    "df_solicitudes_expandida.printSchema()"
   ]
  },
  {
   "cell_type": "code",
   "execution_count": 13,
   "metadata": {},
   "outputs": [
    {
     "name": "stdout",
     "output_type": "stream",
     "text": [
      "-RECORD 0---------------------------------\n",
      " FECHA_APROBADO     | 2017-07-18          \n",
      " FECHA_SOLICITUD    | 2017-07-02          \n",
      " FECHA_LIMITE       | 2018-07-09          \n",
      " MONTO_SOLICITADO   | 255000              \n",
      " MONTO_APROBADO     | 0.0                 \n",
      " SOLICITUD_ID       | 0                   \n",
      " PRODUCTO           | monina              \n",
      " TASA               | 4.5                 \n",
      " NOMBRE_SOLICITANTE | Oliver Correa Tello \n",
      "-RECORD 1---------------------------------\n",
      " FECHA_APROBADO     | 2017-04-29          \n",
      " FECHA_SOLICITUD    | 2017-04-10          \n",
      " FECHA_LIMITE       | 2017-08-18          \n",
      " MONTO_SOLICITADO   | 84000               \n",
      " MONTO_APROBADO     | 80000.0             \n",
      " SOLICITUD_ID       | 1                   \n",
      " PRODUCTO           | basico              \n",
      " TASA               | 8.1                 \n",
      " NOMBRE_SOLICITANTE | Augusto Olmos       \n",
      "only showing top 2 rows\n",
      "\n"
     ]
    }
   ],
   "source": [
    "df_solicitudes_expandida.show(n=2, vertical=True, truncate=False)"
   ]
  },
  {
   "cell_type": "markdown",
   "metadata": {},
   "source": [
    "### Almacenamiento"
   ]
  },
  {
   "cell_type": "code",
   "execution_count": 14,
   "metadata": {},
   "outputs": [
    {
     "name": "stdout",
     "output_type": "stream",
     "text": [
      "prestamos/curated/prestamos_solicitudes_expandida.parquet\n",
      "output/prestamos_solicitudes_expandida.csv\n"
     ]
    }
   ],
   "source": [
    "nombre_archivo = 'prestamos_solicitudes_expandida.parquet'\n",
    "df_almacenamiento(dir_archivo, nombre_archivo, df_solicitudes_expandida)"
   ]
  },
  {
   "cell_type": "markdown",
   "metadata": {},
   "source": [
    "### Unpersist"
   ]
  },
  {
   "cell_type": "code",
   "execution_count": 15,
   "metadata": {},
   "outputs": [
    {
     "data": {
      "text/plain": [
       "DataFrame[FECHA_APROBADO: date, FECHA_SOLICITUD: date, FECHA_LIMITE: date, MONTO_SOLICITADO: int, MONTO_APROBADO: float, SOLICITUD_ID: int, PRODUCTO: string, TASA: float, NOMBRE_SOLICITANTE: string]"
      ]
     },
     "execution_count": 15,
     "metadata": {},
     "output_type": "execute_result"
    }
   ],
   "source": [
    "df_solicitudes_expandida.unpersist()"
   ]
  }
 ],
 "metadata": {
  "kernelspec": {
   "display_name": "Python 3",
   "language": "python",
   "name": "python3"
  },
  "language_info": {
   "codemirror_mode": {
    "name": "ipython",
    "version": 3
   },
   "file_extension": ".py",
   "mimetype": "text/x-python",
   "name": "python",
   "nbconvert_exporter": "python",
   "pygments_lexer": "ipython3",
   "version": "3.7.6"
  }
 },
 "nbformat": 4,
 "nbformat_minor": 4
}
