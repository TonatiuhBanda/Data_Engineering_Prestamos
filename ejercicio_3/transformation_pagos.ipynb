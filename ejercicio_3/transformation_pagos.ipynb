{
 "cells": [
  {
   "cell_type": "code",
   "execution_count": 1,
   "metadata": {},
   "outputs": [],
   "source": [
    "from pyspark.sql import SparkSession\n",
    "from pyspark.context import SparkContext\n",
    "import pyspark.sql.functions as F\n",
    "from pyspark.sql.types import *\n",
    "\n",
    "from pyspark.sql.window import Window"
   ]
  },
  {
   "cell_type": "code",
   "execution_count": 2,
   "metadata": {},
   "outputs": [],
   "source": [
    "sc = SparkContext.getOrCreate()\n",
    "spark = SparkSession(sc)"
   ]
  },
  {
   "cell_type": "markdown",
   "metadata": {},
   "source": [
    "### Nombre archivos"
   ]
  },
  {
   "cell_type": "code",
   "execution_count": 3,
   "metadata": {},
   "outputs": [],
   "source": [
    "dir_archivo = '/home/tonatiuh/Documents/Desarrollo/ZophiaLearning/ejercicios/'\n",
    "dir_complemento = 'prestamos/curated/'"
   ]
  },
  {
   "cell_type": "markdown",
   "metadata": {},
   "source": [
    "### Funciones"
   ]
  },
  {
   "cell_type": "code",
   "execution_count": 4,
   "metadata": {},
   "outputs": [],
   "source": [
    "def df_almacenamiento_parquet(dir_archivo, nombre_archivo, df):\n",
    "    nombre_destino = f'prestamos/curated/{nombre_archivo}'\n",
    "    df.write.mode('overwrite').parquet(dir_archivo+nombre_destino)\n",
    "    print(nombre_destino)\n",
    "\n",
    "    \n",
    "def df_almacenamiento_csv(nombre_archivo, df):\n",
    "    df_filtrado = df.limit(10)\n",
    "    df_pandas = df_filtrado.toPandas()\n",
    "    nombre_output = nombre_archivo.replace('.parquet', '')\n",
    "    nombre_csv = f'output/{nombre_output}.csv'\n",
    "    df_pandas.to_csv(nombre_csv, index=False)\n",
    "    print(nombre_csv)\n",
    "\n",
    "\n",
    "def df_almacenamiento(dir_archivo, nombre_archivo, df):\n",
    "    df_almacenamiento_parquet(dir_archivo, nombre_archivo, df)\n",
    "    df_almacenamiento_csv(nombre_archivo, df)"
   ]
  },
  {
   "cell_type": "markdown",
   "metadata": {},
   "source": [
    "### Tabla prestamos_pagos"
   ]
  },
  {
   "cell_type": "code",
   "execution_count": 5,
   "metadata": {},
   "outputs": [],
   "source": [
    "nombre_archivo = 'prestamos_pagos.parquet'\n",
    "df_pagos = spark.read.format('parquet')\\\n",
    "                .load(dir_archivo+dir_complemento+nombre_archivo)"
   ]
  },
  {
   "cell_type": "code",
   "execution_count": 6,
   "metadata": {},
   "outputs": [],
   "source": [
    "df_pagos = df_pagos.select(\n",
    "    F.to_date('FECHA', 'yyyy-MM-dd').alias('FECHA_PAGO'),\n",
    "    F.col('CANTIDAD').cast(FloatType()),\n",
    "    F.col('PRESTAMO').cast(IntegerType()).alias('SOLICITUD_ID'))"
   ]
  },
  {
   "cell_type": "code",
   "execution_count": 7,
   "metadata": {},
   "outputs": [
    {
     "name": "stdout",
     "output_type": "stream",
     "text": [
      "root\n",
      " |-- FECHA_PAGO: date (nullable = true)\n",
      " |-- CANTIDAD: float (nullable = true)\n",
      " |-- SOLICITUD_ID: integer (nullable = true)\n",
      "\n"
     ]
    }
   ],
   "source": [
    "df_pagos.printSchema()"
   ]
  },
  {
   "cell_type": "code",
   "execution_count": 8,
   "metadata": {},
   "outputs": [
    {
     "name": "stdout",
     "output_type": "stream",
     "text": [
      "+----------+--------+------------+\n",
      "|FECHA_PAGO|CANTIDAD|SOLICITUD_ID|\n",
      "+----------+--------+------------+\n",
      "|2017-02-14| 13100.0|         381|\n",
      "|2017-02-15|  2500.0|         273|\n",
      "|2017-02-27|  5000.0|         381|\n",
      "+----------+--------+------------+\n",
      "only showing top 3 rows\n",
      "\n"
     ]
    }
   ],
   "source": [
    "df_pagos.show(3)"
   ]
  },
  {
   "cell_type": "markdown",
   "metadata": {},
   "source": [
    "### Almacenamiento"
   ]
  },
  {
   "cell_type": "code",
   "execution_count": 9,
   "metadata": {},
   "outputs": [
    {
     "name": "stdout",
     "output_type": "stream",
     "text": [
      "prestamos/curated/prestamos_pagos_formato.parquet\n",
      "output/prestamos_pagos_formato.csv\n"
     ]
    }
   ],
   "source": [
    "nombre_archivo = 'prestamos_pagos_formato.parquet'\n",
    "df_almacenamiento(dir_archivo, nombre_archivo, df_pagos)"
   ]
  }
 ],
 "metadata": {
  "kernelspec": {
   "display_name": "Python 3",
   "language": "python",
   "name": "python3"
  },
  "language_info": {
   "codemirror_mode": {
    "name": "ipython",
    "version": 3
   },
   "file_extension": ".py",
   "mimetype": "text/x-python",
   "name": "python",
   "nbconvert_exporter": "python",
   "pygments_lexer": "ipython3",
   "version": "3.7.6"
  }
 },
 "nbformat": 4,
 "nbformat_minor": 4
}
