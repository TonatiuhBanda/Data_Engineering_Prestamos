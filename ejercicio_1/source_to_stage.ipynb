{
 "cells": [
  {
   "cell_type": "code",
   "execution_count": 1,
   "metadata": {},
   "outputs": [],
   "source": [
    "import pandas as pd"
   ]
  },
  {
   "cell_type": "code",
   "execution_count": 2,
   "metadata": {},
   "outputs": [],
   "source": [
    "dir_archivo = \"/home/tonatiuh/Documents/Desarrollo/ZophiaLearning/datasets/\""
   ]
  },
  {
   "cell_type": "code",
   "execution_count": 3,
   "metadata": {},
   "outputs": [],
   "source": [
    "nombre_archivos = [\n",
    "    'prestamos_bancos.csv',\n",
    "    'prestamos_destinatarios.csv',\n",
    "    'prestamos_pagos.csv',\n",
    "    'prestamos_plaza.csv',\n",
    "    'prestamos_solicitudes.csv',\n",
    "    'prestamos_solicitudes_procesadas.csv']"
   ]
  },
  {
   "cell_type": "markdown",
   "metadata": {},
   "source": [
    "### Tablas"
   ]
  },
  {
   "cell_type": "code",
   "execution_count": 4,
   "metadata": {},
   "outputs": [],
   "source": [
    "for nombre_archivo in nombre_archivos:\n",
    "    if nombre_archivo == 'prestamos_plaza.csv':\n",
    "        str_encoding = 'cp850'\n",
    "    else:\n",
    "        str_encoding = None\n",
    "    df = pd.read_csv(dir_archivo+f'prestamos/{nombre_archivo}', encoding=str_encoding)\n",
    "    \n",
    "    dir_destino = \"/home/tonatiuh/Documents/Desarrollo/ZophiaLearning/ejercicios/\"\n",
    "    nombre_destino = f\"prestamos/stage/{nombre_archivo.replace('.csv','')}.parquet\"\n",
    "    \n",
    "    df.to_parquet(dir_destino+nombre_destino)"
   ]
  }
 ],
 "metadata": {
  "kernelspec": {
   "display_name": "Python 3",
   "language": "python",
   "name": "python3"
  },
  "language_info": {
   "codemirror_mode": {
    "name": "ipython",
    "version": 3
   },
   "file_extension": ".py",
   "mimetype": "text/x-python",
   "name": "python",
   "nbconvert_exporter": "python",
   "pygments_lexer": "ipython3",
   "version": "3.7.6"
  }
 },
 "nbformat": 4,
 "nbformat_minor": 4
}
